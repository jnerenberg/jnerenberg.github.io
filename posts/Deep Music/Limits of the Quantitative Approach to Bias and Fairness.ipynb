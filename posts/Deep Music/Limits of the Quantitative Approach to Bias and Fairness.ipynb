{
 "cells": [
  {
   "cell_type": "raw",
   "metadata": {
    "vscode": {
     "languageId": "raw"
    }
   },
   "source": [
    "---\n",
    "title: \"Limits of the Quantitative Approach to Bias and Fairness\"\n",
    "author: Julia Nerenberg\n",
    "type: \"Blog Post\"\n",
    "date: 2024-05-17 \n",
    "description: |\n",
    "    In this blog post, I'll discuss the limits of the quantitative approach to bias and fairness in allocative decision-making.\n",
    "objectives: \n",
    "  - Social Responsibility\n",
    "publish: \"true\"\n",
    "bibliography: refs.bib\n",
    "---"
   ]
  },
  {
   "cell_type": "markdown",
   "metadata": {},
   "source": [
    "# CSCI 0451: Limits of the Quantitative Approach to Bias and Fairness\n"
   ]
  },
  {
   "cell_type": "markdown",
   "metadata": {},
   "source": [
    "##### referencing \n",
    "Appropriately formatted citations are a fundamental aspect of scholarly writing. A fundamental aspect of technical scholarly writing is learning to manage references using automated tools such as Quarto. Managing references in Quarto is very easy once you have followed the setup below! Blog posts that do not use Quarto’s citation system will receive at most Ms.\n",
    "\n",
    "To manage references in Quarto, you need to create a .bib file (you can call it refs.bib). This file should live in the same directory as your blog post. Your .bib file is essentially a database of document information.\n",
    "\n",
    "The simplest way to get entries for your references is to look them up on Google Scholar.\n",
    "\n",
    "    Search for the document you want.\n",
    "    Click the “Cite” link underneath and choose “Bibtex” from the options at the bottom.\n",
    "    Copy and paste the contents of the new page to your refs.bib file.\n",
    "\n",
    "Once you’ve assembled your references, add the following line to your document metadata (the stuff in the top cell of your Jupyter notebook)"
   ]
  }
 ],
 "metadata": {
  "kernelspec": {
   "display_name": "ml-0451",
   "language": "python",
   "name": "python3"
  },
  "language_info": {
   "codemirror_mode": {
    "name": "ipython",
    "version": 3
   },
   "file_extension": ".py",
   "mimetype": "text/x-python",
   "name": "python",
   "nbconvert_exporter": "python",
   "pygments_lexer": "ipython3",
   "version": "3.9.19"
  },
  "vscode": {
   "interpreter": {
    "hash": "debe06cc0f9553f110b64dc3926c05df82dae2145b852c8422b9c04315589dcb"
   }
  }
 },
 "nbformat": 4,
 "nbformat_minor": 4
}
