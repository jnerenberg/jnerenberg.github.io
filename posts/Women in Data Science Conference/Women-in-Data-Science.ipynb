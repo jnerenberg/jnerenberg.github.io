{
 "cells": [
  {
   "cell_type": "raw",
   "metadata": {},
   "source": [
    "---\n",
    "title: \"Women in Data Science Conference\"\n",
    "author: Julia Nerenberg\n",
    "type: \"Blog Post\"\n",
    "date: 2024-03-04 \n",
    "description: |\n",
    "    This blog post involves attending, reporting on, and reflecting on the Women in Data Science (WiDS) Conference at Middlebury College on March 4th, 2024.  \n",
    "objectives: \n",
    "  - Social Responsibility\n",
    "publish: \"true\"\n",
    "---"
   ]
  },
  {
   "cell_type": "markdown",
   "metadata": {},
   "source": [
    "# CSCI 0451: Reflective Goal-Setting\n",
    "\n",
    "Julia Nerenberg"
   ]
  },
  {
   "cell_type": "markdown",
   "metadata": {},
   "source": [
    "## What You'll Learn\n",
    "\n",
    "*The knowledge we'll develop in CSCI 0451 can be broadly divided into four main areas:*\n",
    "\n",
    "- ***Theory***: *mathematical descriptions of frameworks and algorithms.*\n",
    "- ***Implementation***: *effective coding and use of tools in order to implement efficient machine learning algorithms.*\n",
    "- ***Experimentation***: *performing experiments to assess the performance of algorithms and clearly communicating about the results.*\n",
    "- ***Social responsibility***: *critical analysis of sources of bias and harm in machine learning algorithms; theoretical formulations of fairness and bias*\n",
    "\n",
    "*Every student should grow toward each of these areas, but you can choose to specialize if you'd like! If there are one or two of these categories on which you'd especially like to focus, list them below. Feel free to include any details that you'd like -- this can help me tailor the course content to your interests.*"
   ]
  },
  {
   "cell_type": "markdown",
   "metadata": {},
   "source": [
    "I am most interested in the Implementation and Theory aspects of Machine Learning. I already took a course at UMass Boston called \"Ethics in Computing,\" so I feel like I have the Social Responsibility section somewhat covered already."
   ]
  },
  {
   "cell_type": "markdown",
   "metadata": {},
   "source": [
    "## What You'll Achieve\n",
    "\n",
    "### Blog Posts\n",
    "\n",
    "*Most blog posts will require around 5-8 hours on average to complete, plus time for revisions in response to feedback. Blog posts will most frequently involve a mix of mathematical problem-solving, coding, experimentation, and written discussion. Some blog posts will ask you to critically discuss recent readings in an essay-like format.*"
   ]
  },
  {
   "cell_type": "markdown",
   "metadata": {},
   "source": [
    "I want to complete at least 5 blog posts. I want to make sure that I am able to write about the topics that I am most interested in, so I will focus on completing those well before stressing about completing the rest. I haven't had many classes that have required me to critically discuss recent readings, so I am excited to have an opportunity to argue, which can be a lot of fun."
   ]
  },
  {
   "cell_type": "markdown",
   "metadata": {},
   "source": [
    "### Course Presence (Participation)\n",
    "\n",
    "*You make a choice each day about how to show up for class: whether you'll be prepared, whether you'll engage with me and your peers in a constructive manner; and whether you'll be active during lecture and discussions. We will also have a special opportunity this semester to engage with a renowned expert in machine learning, algorithmic bias, and the ethics of artificial intelligence.*\n",
    "\n",
    "*An especially important form of course presence is the daily warmup. We'll spend the first 10-15 minutes of most class periods on warmup activities. You're expected to have prepared the warmup activity ahead of time (this means you'll need to have completed the readings as well). Each time, we'll sort into groups of 5-6 students, and one of you (randomly selected) will be responsible for presenting the activity on the whiteboard. If you're not feeling prepared to present the activity, you can \"pass\" to the next person, or ask for help along the way.*"
   ]
  },
  {
   "cell_type": "markdown",
   "metadata": {},
   "source": [
    "I want to show up to every class, baring any unexpected emergencies. I also want to show up with a strong attempt at the warm up activity. Sometimes, I'll be somewhat absent from discussions if I don't feel that I've adequately prepared, even if I have points to add. To combat this, I will always have at least some points prepared to bring up, so I don't feel useless. For instance, today, I had a hard time thinking of a point to bring up, but I wrote down something I didn't feel super confident about, and my group leader ended up mentioning it to the class. I also want to focus on this because having different perspectives is important, and I shouldn't dismiss my ideas even if I dont initially feel they fit the mold given by the prompt."
   ]
  },
  {
   "cell_type": "markdown",
   "metadata": {},
   "source": [
    "### Project \n",
    "\n",
    "*To finish off the course, you'll complete a long-term project that showcases your interests and skills. You'll be free to propose and pursue a topic. My expectation is that most projects will move significantly beyond the content covered in class in some way: you might implement a new algorithm, study a complex data set in depth, or conduct a series of experiments related to assessing algorithmic bias in a certain class of algorithm. You'll be expected to complete this project in small groups (of your choosing), and update us at a few milestones along the way.*\n",
    "\n",
    "*Please share a bit about what kind of topic might excite you, and set a few goals about how you plan to show up as a constructive team-member and co-inquirer (see the [ideas](ideas.qmd) for some inspiration*). "
   ]
  },
  {
   "cell_type": "markdown",
   "metadata": {},
   "source": [
    "I want to do a project on something I wouldn't pick for myself. For instance, in my J-term class, I randomly chose the topic of my final project and ended up having a blast with it! I feel it will allow me to develop new opinions rather than just going into a topic that I already feel I know about. As a result, I would be happy with literally any topic. In terms of the group, Zoe would like to complete a cancer project, and I think she would like to do this on her own, but I have designated myself as her \"back-up\" group member if you won't let her, so if you could get an answer to her on that so I can plan one way or another that would be wonderful. If I have to choose a topic, I would be intersted in an algorithm that identifies the most relevant personal information for sale for a given prompt. For instance, if I am stalking an individual and want to know their place of employment, I would want to purchase information regarding their location during work hours and maybe work associated emails. It would also be cool to have something that would pick up information in an image that can indicate where it was taken, like street signs, store signs, license plates' state of origin, maybe even location of sun with respect to time and timezones. I am not a stalker. I just think it'd be neat."
   ]
  }
 ],
 "metadata": {
  "kernelspec": {
   "display_name": "ml-0451",
   "language": "python",
   "name": "python3"
  },
  "language_info": {
   "name": "python",
   "version": "3.9.15"
  },
  "vscode": {
   "interpreter": {
    "hash": "debe06cc0f9553f110b64dc3926c05df82dae2145b852c8422b9c04315589dcb"
   }
  }
 },
 "nbformat": 4,
 "nbformat_minor": 4
}
