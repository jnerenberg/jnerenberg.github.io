{
 "cells": [
  {
   "cell_type": "raw",
   "metadata": {},
   "source": [
    "---\n",
    "title: \"Women in Data Science Conference\"\n",
    "author: Julia Nerenberg\n",
    "type: \"Blog Post\"\n",
    "date: 2024-03-04 \n",
    "description: |\n",
    "    This blog post involves attending, reporting on, and reflecting on the Women in Data Science (WiDS) Conference at Middlebury College on March 4th, 2024.  \n",
    "objectives: \n",
    "  - Social Responsibility\n",
    "publish: \"true\"\n",
    "---"
   ]
  },
  {
   "cell_type": "markdown",
   "metadata": {},
   "source": [
    "# CSCI 0451: Women in Data Science Conference\n",
    "\n",
    "Julia Nerenberg"
   ]
  },
  {
   "cell_type": "markdown",
   "metadata": {},
   "source": [
    "### Part 1: Why Spotlight Women in Data Science?\n",
    "\n",
    "*Why is it important to have events that specifically shine a spotlight on the accomplishments of women in data science? To address this question, we’ll read some sections of the report Solving the Equation: The Variables for Women’s Success in Engineering and Computing written by Corbett and Hill (2015) for the American Association of University Women. Please read the following:*\n",
    "\n",
    "    Executive Summary (pages 2-5)\n",
    "    Why So Few? (pages 34-46)\n",
    "    Women in Engineering and Computing (pages 8-16)\n",
    "    What Can We Do? (pages 98-105)\n",
    "\n",
    "*Once you’ve completed your reading, write three paragraphs:*\n",
    "\n",
    "*Why is it a problem that women are underrepresented in computing, math, and engineering? For whom is it a problem?*\n",
    "\n",
    "Underrepresentation of women in computing, math, and engineering contributes to a significant loss of talent and innovation in these fields. The lack of diversity in these fields is a problem because it limits the perspectives and ideas to those centered around the male demographic. This is a problem for everyone, as it means that the products and services that are created are not as inclusive or as innovative as they could be. \n",
    "\n",
    "*How is the representation and status of women in computing today different from the 1950s and 1960s? What are some of the forces that brought on this change?*\n",
    "\n",
    "The representation and status of women in computing today differs from the 1950s and 1960s in that it has gone from a role that was predominantly filled by women to one that is predominantly filled by men. Initially, computing positions were seen as low-status, low-paying jobs that were considered to be “women’s work.” In a way, it was seen as similar to secretary work. However, as the field of computing grew and became more visible, men began to be favored for these positions as they were often seen as more competent and capable. The advent of the personal computer also played a role in this shift, as it was marketed towards gamers and the \"anti-social nerd\" male stereotype. This led to men being more likely to pursue careers in computing, having been encouraged by this stereotype and exposed to computers at a young age.\n",
    "\n",
    "\n",
    "*Which of the barriers and unequal challenges described in the section “Why So Few?” can be eroded by events that spotlight the achievement of women in STEM?*\n",
    "\n",
    "Many of the barriers and unequal challenges attributed to the underrepresentation of women in computing can be eroded by events that spotlight the achievement of women in STEM. One of the main barriers is the lack of female role models and mentors in these fields. The achievements of the modern women in computer can serve to inspire and motivate young women to pursue careers in computing. Additionally, the stereotypes barring women from these fields can be broken down by showcasing their accomplishments. It is a compounding success, as the more women are spotlighted in these fields, the more likely it is that women will be encouraged to pursue careers in computing, and the more likely it is that the stereotypes will be broken down."
   ]
  },
  {
   "cell_type": "markdown",
   "metadata": {},
   "source": [
    "### Part 2: Attend WiDS\n",
    "\n",
    "*Attend the conference and take notes, especially on Dr. Brown’s keynote.*\n"
   ]
  },
  {
   "cell_type": "markdown",
   "metadata": {},
   "source": [
    "Done!"
   ]
  },
  {
   "cell_type": "markdown",
   "metadata": {},
   "source": [
    "### Part 3: Report!\n",
    "\n",
    "*For each of the three lightning talks, please write a paragraph describing who spoke, what they spoke about, their main argument, and what you learned. Please write two paragraphs in which you report on Dr. Brown’s keynote presentation, including her topic, her primary argument, and what you learned.*\n",
    "\n"
   ]
  },
  {
   "cell_type": "markdown",
   "metadata": {},
   "source": [
    "I want to show up to every class, baring any unexpected emergencies. I also want to show up with a strong attempt at the warm up activity. Sometimes, I'll be somewhat absent from discussions if I don't feel that I've adequately prepared, even if I have points to add. To combat this, I will always have at least some points prepared to bring up, so I don't feel useless. For instance, today, I had a hard time thinking of a point to bring up, but I wrote down something I didn't feel super confident about, and my group leader ended up mentioning it to the class. I also want to focus on this because having different perspectives is important, and I shouldn't dismiss my ideas even if I dont initially feel they fit the mold given by the prompt."
   ]
  },
  {
   "cell_type": "markdown",
   "metadata": {},
   "source": [
    "**Abstract**\n",
    "\n"
   ]
  },
  {
   "cell_type": "markdown",
   "metadata": {},
   "source": [
    "**Reflection**\n",
    "\n",
    "\n",
    "I was inspired by the WiDS conference."
   ]
  },
  {
   "cell_type": "markdown",
   "metadata": {},
   "source": [
    "### Part 4: Transitions, Abstract, and Reflection\n",
    "\n",
    "Please add transition sentences and paragraphs in your writing so that your blog post reads like a single cohesive essay on the status of women in computing and the role of conferences like WiDS in supporting change. Use markdown section headers to delineate sections and transition between them.\n",
    "\n",
    "Then, add an introductory “abstract” section to your blog post describing the high-level structure of the post and your biggest takeaways. Please also add a reflection paragraph at the bottom describing what you learned from completing this blog post and what you hope to learn next.\n"
   ]
  }
 ],
 "metadata": {
  "kernelspec": {
   "display_name": "ml-0451",
   "language": "python",
   "name": "python3"
  },
  "language_info": {
   "name": "python",
   "version": "3.9.15"
  },
  "vscode": {
   "interpreter": {
    "hash": "debe06cc0f9553f110b64dc3926c05df82dae2145b852c8422b9c04315589dcb"
   }
  }
 },
 "nbformat": 4,
 "nbformat_minor": 4
}
