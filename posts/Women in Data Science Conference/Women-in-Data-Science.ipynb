{
 "cells": [
  {
   "cell_type": "raw",
   "metadata": {},
   "source": [
    "---\n",
    "title: \"Women in Data Science Conference\"\n",
    "author: Julia Nerenberg\n",
    "type: \"Blog Post\"\n",
    "date: 2024-03-04 \n",
    "description: |\n",
    "    This blog post involves attending, reporting on, and reflecting on the Women in Data Science (WiDS) Conference at Middlebury College on March 4th, 2024.  \n",
    "objectives: \n",
    "  - Social Responsibility\n",
    "publish: \"true\"\n",
    "---"
   ]
  },
  {
   "cell_type": "markdown",
   "metadata": {},
   "source": [
    "# CSCI 0451: Women in Data Science Conference\n"
   ]
  },
  {
   "cell_type": "markdown",
   "metadata": {},
   "source": [
    "### Abstract\n",
    "\n",
    "This blog post is a summary of and reflection of the Women in Data Science Conference that I attended on March 4, 2024. The conference was held at Middlebury College and was organized by Breanna Guo, a senior. The conference featured several speakers, including keynote speaker Sarah Brown, a Computer Science professor at the University of Rhode Island. There were many familiar faces at the conference, including several of my classmates and professors. It was a great opportunity to learn more about the field of data science and to connect with my professors and peers."
   ]
  },
  {
   "cell_type": "markdown",
   "metadata": {},
   "source": [
    "### Why Spotlight Women in Data Science?\n",
    "\n",
    "Underrepresentation of women in computing, math, and engineering contributes to a significant loss of talent and innovation in these fields. The lack of diversity in these fields is a problem because it limits the perspectives and ideas to those centered around the male demographic. This is a problem for everyone, as it means that the products and services that are created are not as inclusive or as innovative as they could be. \n",
    "\n",
    "The representation and status of women in computing today differs from the 1950s and 1960s in that it has gone from a role that was predominantly filled by women to one that is predominantly filled by men. Initially, computing positions were seen as low-status, low-paying jobs that were considered to be “women’s work.” In a way, it was seen as similar to secretary work. However, as the field of computing grew and became more visible, men began to be favored for these positions as they were often seen as more competent and capable. The advent of the personal computer also played a role in this shift, as it was marketed towards gamers and the \"anti-social nerd\" male stereotype. This led to men being more likely to pursue careers in computing, having been encouraged by this stereotype and exposed to computers at a young age.\n",
    "\n",
    "\n",
    "Many of the barriers and unequal challenges attributed to the underrepresentation of women in computing can be eroded by events that spotlight the achievement of women in STEM. One of the main barriers is the lack of female role models and mentors in these fields. The achievements of the modern women in computer can serve to inspire and motivate young women to pursue careers in computing. Additionally, the stereotypes barring women from these fields can be broken down by showcasing their accomplishments. It is a compounding success, as the more women are spotlighted in these fields, the more likely it is that women will be encouraged to pursue careers in computing, and the more likely it is that the stereotypes will be broken down."
   ]
  },
  {
   "cell_type": "markdown",
   "metadata": {},
   "source": [
    "### The Conference\n",
    "\n",
    "The first lightning talk of the conference was Professor Amy Yuen, a Political Science professor at Middlebury College. Professor Yuen spoke about the importance of data science in the field of political science. She explained her work in using data science to analyze the United Nation's Security Council membership changes over time. With only 15 members on the UN Security Council and 5 of which being permanent members, sponsorship plays a significant role in the election of non-permanent members. Professor Yuen argued that while this method may seem un-representative, the seats that are campaigned for general have somewhat equitable representation. This application of data science in the political sector is integral to understanding the motives of the UN and the power dynamics shaping our world.\n",
    "\n",
    "The next talk was by the keynote speaker, Professor Sarah Brown, a Computer Science professor at the University of Rhode Island. Professor Brown spoke about her experiences in the field of data science as a multi-disciplinary field. She argued that data science is not just about the data, but about the people who are using the data. She emphasized the importance of collaboration between data scientists and domain experts, as well as the importance of communication skills in data science. Professor Brown also discussed diversity in the field, as it leads to more innovative and inclusive solutions. I learned that data science is not just about the data, but about the people who are using the data. I also learned that collaboration and communication are key skills in data science, and that diversity is important for creating innovative and inclusive solutions.\n",
    "\n",
    "Professor Brown's presentation was organized around three keys: contextualize data, disciplines are communities, and meet people where they are. She explained how data is a primary source of information and needs to be examined with a critical eye, much like how one would in a social studies environment. She also expressed the importance of seeking the expertise of individuals rooted within the field of study, as they can provide valuable insights that data alone cannot. Lastly, she emphasized the importance of meeting people where they are. She discussed her experiences on the board of the National Society for Black Engineers and how she realized the barriers between policy change at the higher levels and policy enaction at the lower levels. These keys, while each seeming to be a small piece of the puzzle, form a strong basis for fair and effective data science practices.\n",
    "\n",
    "Professor Brown's talk was followed by a lightning talk by Professor Jessica L'Roe, a professor of geography at Middlebury college. Her talk was focused on her experiences in using data science to analyze the usage of farmland around the world. She focused on the impact of shifts in farmland usage on local communities. She found that shifts in farmland ownership from indigenous communities to large corporations cause many families to encourage their youth to leave the farming industry. Another interesting find by Professor L'Roe concerned the reporting of farmland area owned by entities. She found that there was a much larger concentration of farms approaching the upper limits of regulations than the lower limits. While this could be a result of purchasing land in specific increments, it most likely suggests that there is a significant amount of underreporting of farmland ownership by those who own more land. Professor L'Roe's work was a great example of how data science can be used to analyze and understand complex socio-economic and environmental issues.\n",
    "\n",
    "The final talk of the conference was by Professor Laura Biester, a professor of computer science at Middlebury College. Professor Biester spoke primarily about her work in the natural language processing field, and shared some of her research on emotion detection in text posts. Amazingly, she was able to compile a dataset of almost every reddit post. Using this data, she was able to work on detection and prediction of depression in text posts. In order to ethically do this, Professor Biester relied on self reported diagnoses of depression within the dataset. Interestingly, despite the fact that these self reported diagnoses could be fabricated, those reports are few and far between, and had no significant impact on the study. Professor Biester's work concluded by being able to somewhat accurately predict depression diagnoses from textual features in written works. In the future, this sort of work can be used to help identify individuals who may be at risk for developing depression and provide them with early intervention. \n"
   ]
  },
  {
   "cell_type": "markdown",
   "metadata": {},
   "source": [
    "### Reflection\n",
    "\n",
    "I was inspired by the WiDS conference. It reminded me of my reasons for choosing Computer Science as a major: it is applicable to any field. Often, computer science is seen as a field that is separate from other fields, but the WiDS conference demonstrated its unique ability to bridge the gaps between disciplines. I have always considered myself to be a multi-disciplinary person, and value adding skillsets to my toolbox. Data and computer science are the tools that facilitate this goal. In particular, it was enlightening to see the work of Professor Biester outside of the classroom. As a student of hers, I was struck by the realization that her work could one day directly benefit someone like me. It was a reminder that the work we do in the classroom is not just for the sake of learning, but for the sake of making a difference in the world. I was also stunned by how close we as students of computer science are to being able to do some of this same work. The tools and techniques that we are learning in our classes are the same ones that are being used by professionals in the field; a great reminder that we are not just students, but future professionals.\n"
   ]
  }
 ],
 "metadata": {
  "kernelspec": {
   "display_name": "ml-0451",
   "language": "python",
   "name": "python3"
  },
  "language_info": {
   "codemirror_mode": {
    "name": "ipython",
    "version": 3
   },
   "file_extension": ".py",
   "mimetype": "text/x-python",
   "name": "python",
   "nbconvert_exporter": "python",
   "pygments_lexer": "ipython3",
   "version": "3.9.18"
  },
  "vscode": {
   "interpreter": {
    "hash": "debe06cc0f9553f110b64dc3926c05df82dae2145b852c8422b9c04315589dcb"
   }
  }
 },
 "nbformat": 4,
 "nbformat_minor": 4
}
