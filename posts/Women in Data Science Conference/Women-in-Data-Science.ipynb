{
 "cells": [
  {
   "cell_type": "raw",
   "metadata": {},
   "source": [
    "---\n",
    "title: \"Women in Data Science Conference\"\n",
    "author: Julia Nerenberg\n",
    "type: \"Blog Post\"\n",
    "date: 2024-03-04 \n",
    "description: |\n",
    "    This blog post involves attending, reporting on, and reflecting on the Women in Data Science (WiDS) Conference at Middlebury College on March 4th, 2024.  \n",
    "objectives: \n",
    "  - Social Responsibility\n",
    "publish: \"true\"\n",
    "---"
   ]
  },
  {
   "cell_type": "markdown",
   "metadata": {},
   "source": [
    "# CSCI 0451: Women in Data Science Conference\n",
    "\n",
    "Julia Nerenberg"
   ]
  },
  {
   "cell_type": "markdown",
   "metadata": {},
   "source": [
    "### Abstract\n",
    "\n",
    "This blog post is a summary of and reflection of the Women in Data Science Conference that I attended on March 4, 2024. The conference was held at Middlebury College and was organized by Breanna Guo, a senior. The conference featured several speakers, including keynote speaker Sarah Brown, a Computer Science professor at the University of Rhode Island. There were many familiar faces at the conference, including several of my classmates and professors. It was a great opportunity to learn more about the field of data science and to connect with my professors and peers."
   ]
  },
  {
   "cell_type": "markdown",
   "metadata": {},
   "source": [
    "### Part 1: Why Spotlight Women in Data Science?\n",
    "\n",
    "*Why is it a problem that women are underrepresented in computing, math, and engineering? For whom is it a problem?*\n",
    "\n",
    "Underrepresentation of women in computing, math, and engineering contributes to a significant loss of talent and innovation in these fields. The lack of diversity in these fields is a problem because it limits the perspectives and ideas to those centered around the male demographic. This is a problem for everyone, as it means that the products and services that are created are not as inclusive or as innovative as they could be. \n",
    "\n",
    "*How is the representation and status of women in computing today different from the 1950s and 1960s? What are some of the forces that brought on this change?*\n",
    "\n",
    "The representation and status of women in computing today differs from the 1950s and 1960s in that it has gone from a role that was predominantly filled by women to one that is predominantly filled by men. Initially, computing positions were seen as low-status, low-paying jobs that were considered to be “women’s work.” In a way, it was seen as similar to secretary work. However, as the field of computing grew and became more visible, men began to be favored for these positions as they were often seen as more competent and capable. The advent of the personal computer also played a role in this shift, as it was marketed towards gamers and the \"anti-social nerd\" male stereotype. This led to men being more likely to pursue careers in computing, having been encouraged by this stereotype and exposed to computers at a young age.\n",
    "\n",
    "\n",
    "*Which of the barriers and unequal challenges described in the section “Why So Few?” can be eroded by events that spotlight the achievement of women in STEM?*\n",
    "\n",
    "Many of the barriers and unequal challenges attributed to the underrepresentation of women in computing can be eroded by events that spotlight the achievement of women in STEM. One of the main barriers is the lack of female role models and mentors in these fields. The achievements of the modern women in computer can serve to inspire and motivate young women to pursue careers in computing. Additionally, the stereotypes barring women from these fields can be broken down by showcasing their accomplishments. It is a compounding success, as the more women are spotlighted in these fields, the more likely it is that women will be encouraged to pursue careers in computing, and the more likely it is that the stereotypes will be broken down."
   ]
  },
  {
   "cell_type": "markdown",
   "metadata": {},
   "source": [
    "### Part 3: Report!\n",
    "\n",
    "*For each of the three lightning talks, please write a paragraph describing who spoke, what they spoke about, their main argument, and what you learned. Please write two paragraphs in which you report on Dr. Brown’s keynote presentation, including her topic, her primary argument, and what you learned.*\n",
    "\n"
   ]
  },
  {
   "cell_type": "markdown",
   "metadata": {},
   "source": [
    "The first presenter of the conference was Professor Amy Yuen, a Political Science professor at Middlebury College. Professor Yuen spoke about the importance of data science in the field of political science. She explained her work in using data science to analyze the United Nation's membership changes over time."
   ]
  },
  {
   "cell_type": "markdown",
   "metadata": {},
   "source": [
    "**Reflection**\n",
    "\n",
    "\n",
    "I was inspired by the WiDS conference."
   ]
  }
 ],
 "metadata": {
  "kernelspec": {
   "display_name": "ml-0451",
   "language": "python",
   "name": "python3"
  },
  "language_info": {
   "codemirror_mode": {
    "name": "ipython",
    "version": 3
   },
   "file_extension": ".py",
   "mimetype": "text/x-python",
   "name": "python",
   "nbconvert_exporter": "python",
   "pygments_lexer": "ipython3",
   "version": "3.9.18"
  },
  "vscode": {
   "interpreter": {
    "hash": "debe06cc0f9553f110b64dc3926c05df82dae2145b852c8422b9c04315589dcb"
   }
  }
 },
 "nbformat": 4,
 "nbformat_minor": 4
}
